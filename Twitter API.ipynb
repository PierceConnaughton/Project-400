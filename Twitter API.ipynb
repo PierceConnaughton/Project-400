{
 "cells": [
  {
   "cell_type": "code",
   "execution_count": 1,
   "id": "672c3468",
   "metadata": {},
   "outputs": [],
   "source": [
    "#Importing all neccassary libraries\n",
    "#to send get requests from API\n",
    "import requests\n",
    "#to save access tokens\n",
    "import os\n",
    "#Used for json responses\n",
    "import json\n",
    "import pandas as pd\n",
    "#parse the dates and time into a readable formate\n",
    "import datetime\n",
    "import dateutil.parser\n",
    "import unicodedata\n",
    "#Used for checking the wait time between requests\n",
    "import time"
   ]
  },
  {
   "cell_type": "code",
   "execution_count": 2,
   "id": "298615c6",
   "metadata": {},
   "outputs": [
    {
     "name": "stdout",
     "output_type": "stream",
     "text": [
      "environ({'ALLUSERSPROFILE': 'C:\\\\ProgramData', 'APPDATA': 'C:\\\\Users\\\\S00185812\\\\AppData\\\\Roaming', 'COMMONPROGRAMFILES': 'C:\\\\Program Files\\\\Common Files', 'COMMONPROGRAMFILES(X86)': 'C:\\\\Program Files (x86)\\\\Common Files', 'COMMONPROGRAMW6432': 'C:\\\\Program Files\\\\Common Files', 'COMPUTERNAME': 'VLAB-STDNT-46', 'COMSPEC': 'C:\\\\WINDOWS\\\\system32\\\\cmd.exe', 'DRIVERDATA': 'C:\\\\Windows\\\\System32\\\\Drivers\\\\DriverData', 'HOMEDRIVE': 'C:', 'HOMEPATH': '\\\\Users\\\\S00185812', 'LOCALAPPDATA': 'C:\\\\Users\\\\S00185812\\\\AppData\\\\Local', 'LOGONSERVER': '\\\\\\\\DOONEY', 'MSMPI_BIN': 'C:\\\\Program Files\\\\Microsoft MPI\\\\Bin\\\\', 'NUMBER_OF_PROCESSORS': '2', 'ONEDRIVE': 'C:\\\\Users\\\\S00185812\\\\OneDrive', 'OS': 'Windows_NT', 'PATH': 'C:\\\\Users\\\\S00185812\\\\Anaconda3;C:\\\\Users\\\\S00185812\\\\Anaconda3\\\\Library\\\\mingw-w64\\\\bin;C:\\\\Users\\\\S00185812\\\\Anaconda3\\\\Library\\\\usr\\\\bin;C:\\\\Users\\\\S00185812\\\\Anaconda3\\\\Library\\\\bin;C:\\\\Users\\\\S00185812\\\\Anaconda3\\\\Scripts;C:\\\\Program Files\\\\Microsoft MPI\\\\Bin\\\\;C:\\\\Program Files (x86)\\\\Common Files\\\\Oracle\\\\Java\\\\javapath;C:\\\\WINDOWS\\\\system32;C:\\\\WINDOWS;C:\\\\WINDOWS\\\\System32\\\\Wbem;C:\\\\WINDOWS\\\\System32\\\\WindowsPowerShell\\\\v1.0\\\\;C:\\\\WINDOWS\\\\System32\\\\OpenSSH\\\\;C:\\\\Program Files\\\\dotnet\\\\;C:\\\\Program Files\\\\Microsoft SQL Server\\\\130\\\\Tools\\\\Binn\\\\;C:\\\\Program Files\\\\Microsoft SQL Server\\\\Client SDK\\\\ODBC\\\\170\\\\Tools\\\\Binn\\\\;C:\\\\Program Files (x86)\\\\Microsoft SQL Server\\\\140\\\\Tools\\\\Binn\\\\;C:\\\\Program Files\\\\Microsoft SQL Server\\\\140\\\\Tools\\\\Binn\\\\;C:\\\\Program Files (x86)\\\\Microsoft SQL Server\\\\140\\\\DTS\\\\Binn\\\\;C:\\\\Program Files\\\\Microsoft SQL Server\\\\140\\\\DTS\\\\Binn\\\\;C:\\\\Program Files\\\\Microsoft SQL Server\\\\Client SDK\\\\ODBC\\\\130\\\\Tools\\\\Binn\\\\;C:\\\\Program Files (x86)\\\\Microsoft SQL Server\\\\150\\\\DTS\\\\Binn\\\\;C:\\\\Program Files (x86)\\\\Citrix\\\\HDX\\\\bin\\\\;C:\\\\Program Files\\\\Citrix\\\\HDX\\\\bin\\\\;C:\\\\Users\\\\S00185812\\\\AppData\\\\Local\\\\Microsoft\\\\WindowsApps;C:\\\\Program Files\\\\swipl\\\\bin', 'PATHEXT': '.COM;.EXE;.BAT;.CMD;.VBS;.VBE;.JS;.JSE;.WSF;.WSH;.MSC;.CPL', 'PROCESSOR_ARCHITECTURE': 'AMD64', 'PROCESSOR_IDENTIFIER': 'Intel64 Family 6 Model 85 Stepping 7, GenuineIntel', 'PROCESSOR_LEVEL': '6', 'PROCESSOR_REVISION': '5507', 'PROGRAMDATA': 'C:\\\\ProgramData', 'PROGRAMFILES': 'C:\\\\Program Files', 'PROGRAMFILES(X86)': 'C:\\\\Program Files (x86)', 'PROGRAMW6432': 'C:\\\\Program Files', 'PSMODULEPATH': 'C:\\\\Users\\\\S00185812\\\\Documents\\\\WindowsPowerShell\\\\Modules;C:\\\\Program Files\\\\WindowsPowerShell\\\\Modules;C:\\\\WINDOWS\\\\system32\\\\WindowsPowerShell\\\\v1.0\\\\Modules;C:\\\\Program Files (x86)\\\\Microsoft SQL Server\\\\140\\\\Tools\\\\PowerShell\\\\Modules\\\\;C:\\\\Program Files\\\\Citrix\\\\Telemetry Service\\\\', 'PUBLIC': 'C:\\\\Users\\\\Public', 'SESSIONNAME': 'Console', 'SYSTEMDRIVE': 'C:', 'SYSTEMROOT': 'C:\\\\WINDOWS', 'TEMP': 'C:\\\\Users\\\\S00185~1\\\\AppData\\\\Local\\\\Temp', 'TMP': 'C:\\\\Users\\\\S00185~1\\\\AppData\\\\Local\\\\Temp', 'UATDATA': 'C:\\\\Windows\\\\CCM\\\\UATData\\\\D9F8C395-CAB8-491d-B8AC-179A1FE1BE77', 'USERDNSDOMAIN': 'CAMPUS.ITSLIGO.IE', 'USERDOMAIN': 'CAMPUS', 'USERDOMAIN_ROAMINGPROFILE': 'CAMPUS', 'USERNAME': 'S00185812', 'USERPROFILE': 'C:\\\\Users\\\\S00185812', 'WINDIR': 'C:\\\\WINDOWS', 'CONDA_PREFIX': 'C:\\\\Users\\\\S00185812\\\\Anaconda3', 'TERM': 'xterm-color', 'PYXTERM_DIMENSIONS': '80x25', 'COLUMNS': '80', 'LINES': '25', 'JUPYTER_SERVER_ROOT': 'C:\\\\Users\\\\S00185812', 'JUPYTER_SERVER_URL': 'http://localhost:8888/', 'JPY_INTERRUPT_EVENT': '2328', 'IPY_INTERRUPT_EVENT': '2328', 'JPY_PARENT_PID': '2356', 'CLICOLOR': '1', 'PAGER': 'cat', 'GIT_PAGER': 'cat', 'MPLBACKEND': 'module://ipykernel.pylab.backend_inline'})\n"
     ]
    }
   ],
   "source": [
    "print(os.environ)"
   ]
  }
 ],
 "metadata": {
  "kernelspec": {
   "display_name": "Python 3",
   "language": "python",
   "name": "python3"
  },
  "language_info": {
   "codemirror_mode": {
    "name": "ipython",
    "version": 3
   },
   "file_extension": ".py",
   "mimetype": "text/x-python",
   "name": "python",
   "nbconvert_exporter": "python",
   "pygments_lexer": "ipython3",
   "version": "3.8.8"
  }
 },
 "nbformat": 4,
 "nbformat_minor": 5
}
