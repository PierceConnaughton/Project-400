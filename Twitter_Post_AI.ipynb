{
 "cells": [
  {
   "cell_type": "code",
   "execution_count": 72,
   "id": "146695d4",
   "metadata": {},
   "outputs": [],
   "source": [
    "#import tensorflow for text generation\n",
    "import Twitter_API as api\n",
    "import json\n",
    "import numpy as np\n",
    "import os\n",
    "import time\n",
    "import sys\n",
    "import nltk\n",
    "import re\n",
    "import csv\n",
    "import keras\n",
    "\n",
    "#stop words is used to remove words such as the, a, this etc.\n",
    "from nltk.corpus import stopwords\n",
    "\n",
    "import pandas as pd \n",
    "import tensorflow as tf\n",
    "import matplotlib.pyplot as plt\n",
    "import seaborn as sns\n",
    "from keras.preprocessing.sequence import pad_sequences\n",
    "\n",
    "from keras.models import Sequential\n",
    "from keras.layers import Dense, Activation\n",
    "from keras.layers import LSTM\n",
    "from keras.callbacks import LambdaCallback, ModelCheckpoint\n",
    "from keras.preprocessing.text import Tokenizer\n",
    "import random\n",
    "import sys\n",
    "import io"
   ]
  },
  {
   "cell_type": "code",
   "execution_count": 13,
   "id": "4f8cf0f5",
   "metadata": {},
   "outputs": [
    {
     "data": {
      "text/html": [
       "<div>\n",
       "<style scoped>\n",
       "    .dataframe tbody tr th:only-of-type {\n",
       "        vertical-align: middle;\n",
       "    }\n",
       "\n",
       "    .dataframe tbody tr th {\n",
       "        vertical-align: top;\n",
       "    }\n",
       "\n",
       "    .dataframe thead th {\n",
       "        text-align: right;\n",
       "    }\n",
       "</style>\n",
       "<table border=\"1\" class=\"dataframe\">\n",
       "  <thead>\n",
       "    <tr style=\"text-align: right;\">\n",
       "      <th></th>\n",
       "      <th>user</th>\n",
       "      <th>tweet</th>\n",
       "      <th>language</th>\n",
       "      <th>likes</th>\n",
       "      <th>shares</th>\n",
       "    </tr>\n",
       "  </thead>\n",
       "  <tbody>\n",
       "    <tr>\n",
       "      <th>0</th>\n",
       "      <td>katyperry</td>\n",
       "      <td>is history repeating itself     dontnormalizeh...</td>\n",
       "      <td>en</td>\n",
       "      <td>7900</td>\n",
       "      <td>3472</td>\n",
       "    </tr>\n",
       "    <tr>\n",
       "      <th>1</th>\n",
       "      <td>katyperry</td>\n",
       "      <td>barackobama thank you for your incredible gra...</td>\n",
       "      <td>en</td>\n",
       "      <td>3689</td>\n",
       "      <td>1380</td>\n",
       "    </tr>\n",
       "    <tr>\n",
       "      <th>2</th>\n",
       "      <td>katyperry</td>\n",
       "      <td>life goals</td>\n",
       "      <td>en</td>\n",
       "      <td>10341</td>\n",
       "      <td>2387</td>\n",
       "    </tr>\n",
       "    <tr>\n",
       "      <th>3</th>\n",
       "      <td>katyperry</td>\n",
       "      <td>me right now</td>\n",
       "      <td>en</td>\n",
       "      <td>10774</td>\n",
       "      <td>2458</td>\n",
       "    </tr>\n",
       "    <tr>\n",
       "      <th>4</th>\n",
       "      <td>katyperry</td>\n",
       "      <td>sisters are doin  it for themselves           ...</td>\n",
       "      <td>en</td>\n",
       "      <td>17620</td>\n",
       "      <td>4655</td>\n",
       "    </tr>\n",
       "  </tbody>\n",
       "</table>\n",
       "</div>"
      ],
      "text/plain": [
       "        user                                              tweet language  \\\n",
       "0  katyperry  is history repeating itself     dontnormalizeh...       en   \n",
       "1  katyperry   barackobama thank you for your incredible gra...       en   \n",
       "2  katyperry                                       life goals         en   \n",
       "3  katyperry                             me right now                 en   \n",
       "4  katyperry  sisters are doin  it for themselves           ...       en   \n",
       "\n",
       "   likes  shares  \n",
       "0   7900    3472  \n",
       "1   3689    1380  \n",
       "2  10341    2387  \n",
       "3  10774    2458  \n",
       "4  17620    4655  "
      ]
     },
     "execution_count": 13,
     "metadata": {},
     "output_type": "execute_result"
    }
   ],
   "source": [
    "#Read the data into a dataframe\n",
    "df = pd.read_csv(\"Data/tweet.csv\")\n",
    "\n",
    "#Renaming the columns to something more fitting and clean\n",
    "df = df.rename(columns={'content': 'tweet', 'author': 'user','number_of_likes': 'likes', 'number_of_shares': 'shares'})\n",
    "\n",
    "#remove all non english tweets\n",
    "df = df.drop(df.index[df['language']!='en'])\n",
    "\n",
    "#Drop empty rows\n",
    "df = df.dropna()\n",
    "\n",
    "#store the english stop words\n",
    "stopWords = stopwords.words('english')\n",
    "\n",
    "#the tweet will be used for the input of our NLP model\n",
    "tweets = df['tweet']\n",
    "\n",
    "#convert a list to a sting\n",
    "def listToString(s): \n",
    "    \n",
    "    str1 = \"\" \n",
    "    \n",
    "    for ele in s: \n",
    "        str1 += ele  \n",
    "        \n",
    "    return str1 \n",
    "\n",
    "#remove https links\n",
    "pattern = re.compile('http[s]?://(?:[a-zA-Z]|[0-9]|[$-_@.&+]|[!*\\(\\),]|(?:%[0-9a-fA-F][0-9a-fA-F]))+')\n",
    "\n",
    "def cleanTweet(tweet):\n",
    "    \n",
    "    #convert tweet to lowercase\n",
    "    tweet = tweet.lower()\n",
    "    \n",
    "    #removes any character not alphabetic or numeric\n",
    "    tweet = pattern.sub('', tweet)\n",
    "    \n",
    "    #removes any character not alphabetic or numeric\n",
    "    tweet = re.sub(r\"[^A-Za-z0-9]\",' ', tweet)\n",
    "    \n",
    "    #return the tweet\n",
    "    return tweet\n",
    "\n",
    "tweets = tweets.apply(cleanTweet) \n",
    "\n",
    "df['tweet'] = tweets\n",
    "\n",
    "df.head()\n",
    "\n"
   ]
  },
  {
   "cell_type": "code",
   "execution_count": 52,
   "id": "293d2a53",
   "metadata": {},
   "outputs": [
    {
     "data": {
      "image/png": "[encoded data removed]",
      "text/plain": [
       "<Figure size 864x648 with 1 Axes>"
      ]
     },
     "metadata": {},
     "output_type": "display_data"
    },
    {
     "data": {
      "text/plain": [
       "0     is history repeating itself     dontnormalizeh...\n",
       "1      barackobama thank you for your incredible gra...\n",
       "2                                          life goals  \n",
       "3                                me right now          \n",
       "4     sisters are doin  it for themselves           ...\n",
       "5     happy 96th gma  fourmoreyears         lacma lo...\n",
       "8              2017 resolution  to embody authenticity \n",
       "9                                             sisters  \n",
       "10    happy holidays  sending love and light to ever...\n",
       "11    damn  it s hard to wrap presents when you re d...\n",
       "12    when my whole fam tryna have a peaceful holida...\n",
       "13    when your holiday shopping is woke af       bl...\n",
       "14                 shannonwoodward have you been hacked\n",
       "15    this week santa and i got to spread some cheer...\n",
       "16             love the music therapy program at chla  \n",
       "17                                        for real tho \n",
       "18    i can t wait to recreate this on a tour we do ...\n",
       "19                             i wanna adopt him ilhsm \n",
       "20     jessesaintjohn imma make a best of 16  spotif...\n",
       "21                   jessesaintjohn  kanyewest fade doe\n",
       "Name: tweet, dtype: object"
      ]
     },
     "execution_count": 52,
     "metadata": {},
     "output_type": "execute_result"
    }
   ],
   "source": [
    "plt.style.use('fivethirtyeight')\n",
    "\n",
    "f, g = plt.subplots(figsize=(12, 9))\n",
    "df['user'].value_counts().head(10).plot.bar(color=\"green\")\n",
    "g.set_xticklabels(g.get_xticklabels(), rotation=25)\n",
    "plt.title(\"Most active users in freeCodeCamp's Gitter channel\")\n",
    "plt.show(g)\n",
    "\n",
    "df.tweet.head(20)"
   ]
  },
  {
   "cell_type": "code",
   "execution_count": 18,
   "id": "a2d3b19a",
   "metadata": {},
   "outputs": [
    {
     "name": "stdout",
     "output_type": "stream",
     "text": [
      "accounts all together have 46934 messages\n",
      "Their messages add up to 3715899 characters\n"
     ]
    }
   ],
   "source": [
    "user = df.tweet\n",
    "\n",
    "n_messages = len(user)\n",
    "n_chars = len(' '.join(map(str, user)))\n",
    "\n",
    "print(\"accounts all together have %d messages\" % n_messages)\n",
    "print(\"Their messages add up to %d characters\" % n_chars)"
   ]
  },
  {
   "cell_type": "code",
   "execution_count": 19,
   "id": "cc03d6e9",
   "metadata": {},
   "outputs": [
    {
     "data": {
      "text/plain": [
       "'is history repeating itself     dontnormalizehate   barackobama thank you for your incredible grace '"
      ]
     },
     "execution_count": 19,
     "metadata": {},
     "output_type": "execute_result"
    }
   ],
   "source": [
    "sample_size = int(len(user) * 0.2)\n",
    "\n",
    "user = user[:sample_size]\n",
    "user = ' '.join(map(str, user)).lower()\n",
    "\n",
    "user[:100] # Show first 100 characters"
   ]
  },
  {
   "cell_type": "code",
   "execution_count": 20,
   "id": "6dea3dbd",
   "metadata": {},
   "outputs": [
    {
     "name": "stdout",
     "output_type": "stream",
     "text": [
      "Count of unique characters (i.e., features): 37\n"
     ]
    }
   ],
   "source": [
    "chars = sorted(list(set(user)))\n",
    "print('Count of unique characters (i.e., features):', len(chars))\n",
    "char_indices = dict((c, i) for i, c in enumerate(chars))\n",
    "indices_char = dict((i, c) for i, c in enumerate(chars))"
   ]
  },
  {
   "cell_type": "code",
   "execution_count": 21,
   "id": "a596ad64",
   "metadata": {},
   "outputs": [
    {
     "name": "stdout",
     "output_type": "stream",
     "text": [
      "Number of sequences: 247831 \n",
      "\n",
      "['is history repeating itself     dontnorm', 'history repeating itself     dontnormali', 'tory repeating itself     dontnormalizeh', 'y repeating itself     dontnormalizehate', 'epeating itself     dontnormalizehate   ', 'ating itself     dontnormalizehate   bar', 'ng itself     dontnormalizehate   barack', 'itself     dontnormalizehate   barackoba', 'elf     dontnormalizehate   barackobama ', '     dontnormalizehate   barackobama tha'] \n",
      "\n",
      "['a', 'z', 'a', ' ', 'b', 'a', 'o', 'm', 't', 'n']\n"
     ]
    }
   ],
   "source": [
    "maxlen = 40\n",
    "step = 3\n",
    "sentences = []\n",
    "next_chars = []\n",
    "for i in range(0, len(user) - maxlen, step):\n",
    "    sentences.append(user[i: i + maxlen])\n",
    "    next_chars.append(user[i + maxlen])\n",
    "print('Number of sequences:', len(sentences), \"\\n\")\n",
    "\n",
    "print(sentences[:10], \"\\n\")\n",
    "print(next_chars[:10])\n"
   ]
  },
  {
   "cell_type": "code",
   "execution_count": 22,
   "id": "0450c028",
   "metadata": {},
   "outputs": [
    {
     "name": "stderr",
     "output_type": "stream",
     "text": [
      "<ipython-input-22-b8405c8d7c41>:1: DeprecationWarning: `np.bool` is a deprecated alias for the builtin `bool`. To silence this warning, use `bool` by itself. Doing this will not modify any behavior and is safe. If you specifically wanted the numpy scalar type, use `np.bool_` here.\n",
      "Deprecated in NumPy 1.20; for more details and guidance: https://numpy.org/devdocs/release/1.20.0-notes.html#deprecations\n",
      "  x = np.zeros((len(sentences), maxlen, len(chars)), dtype=np.bool)\n",
      "<ipython-input-22-b8405c8d7c41>:2: DeprecationWarning: `np.bool` is a deprecated alias for the builtin `bool`. To silence this warning, use `bool` by itself. Doing this will not modify any behavior and is safe. If you specifically wanted the numpy scalar type, use `np.bool_` here.\n",
      "Deprecated in NumPy 1.20; for more details and guidance: https://numpy.org/devdocs/release/1.20.0-notes.html#deprecations\n",
      "  y = np.zeros((len(sentences), len(chars)), dtype=np.bool)\n"
     ]
    }
   ],
   "source": [
    "x = np.zeros((len(sentences), maxlen, len(chars)), dtype=np.bool)\n",
    "y = np.zeros((len(sentences), len(chars)), dtype=np.bool)\n",
    "for i, sentence in enumerate(sentences):\n",
    "    for t, char in enumerate(sentence):\n",
    "        x[i, t, char_indices[char]] = 1\n",
    "    y[i, char_indices[next_chars[i]]] = 1"
   ]
  },
  {
   "cell_type": "code",
   "execution_count": 23,
   "id": "edac7b8c",
   "metadata": {},
   "outputs": [],
   "source": [
    "model = Sequential()\n",
    "model.add(LSTM(128, input_shape=(maxlen, len(chars))))\n",
    "model.add(Dense(len(chars)))\n",
    "model.add(Activation('softmax'))"
   ]
  },
  {
   "cell_type": "code",
   "execution_count": 24,
   "id": "8ccd1624",
   "metadata": {},
   "outputs": [
    {
     "name": "stderr",
     "output_type": "stream",
     "text": [
      "D:\\Anaconda\\lib\\site-packages\\keras\\optimizer_v2\\rmsprop.py:130: UserWarning: The `lr` argument is deprecated, use `learning_rate` instead.\n",
      "  super(RMSprop, self).__init__(name, **kwargs)\n"
     ]
    }
   ],
   "source": [
    "optimizer = tf.keras.optimizers.RMSprop(lr=0.01)\n",
    "model.compile(loss='categorical_crossentropy', optimizer=optimizer)"
   ]
  },
  {
   "cell_type": "code",
   "execution_count": 27,
   "id": "12308c2b",
   "metadata": {},
   "outputs": [],
   "source": [
    "def on_epoch_end(epoch, logs):\n",
    "    # Function invoked for specified epochs. Prints generated text.\n",
    "    # Using epoch+1 to be consistent with the training epochs printed by Keras\n",
    "    if epoch+1 == 1 or epoch+1 == 15:\n",
    "        print()\n",
    "        print('----- Generating text after Epoch: %d' % epoch)\n",
    "\n",
    "        start_index = random.randint(0, len(user) - maxlen - 1)\n",
    "        for diversity in [0.2, 0.5, 1.0, 1.2]:\n",
    "            print('----- diversity:', diversity)\n",
    "\n",
    "            generated = ''\n",
    "            sentence = user[start_index: start_index + maxlen]\n",
    "            generated += sentence\n",
    "            print('----- Generating with seed: \"' + sentence + '\"')\n",
    "            sys.stdout.write(generated)\n",
    "\n",
    "            for i in range(140):\n",
    "                x_pred = np.zeros((1, maxlen, len(chars)))\n",
    "                for t, char in enumerate(sentence):\n",
    "                    x_pred[0, t, char_indices[char]] = 1.\n",
    "\n",
    "                preds = model.predict(x_pred, verbose=0)[0]\n",
    "                next_index = sample(preds, diversity)\n",
    "                next_char = indices_char[next_index]\n",
    "\n",
    "                generated += next_char\n",
    "                sentence = sentence[1:] + next_char\n",
    "\n",
    "                sys.stdout.write(next_char)\n",
    "                sys.stdout.flush()\n",
    "            print()\n",
    "    else:\n",
    "        print()\n",
    "        print('----- Not generating text after Epoch: %d' % epoch)\n",
    "\n",
    "generate_text = LambdaCallback(on_epoch_end=on_epoch_end)"
   ]
  },
  {
   "cell_type": "code",
   "execution_count": 28,
   "id": "881c2d55",
   "metadata": {},
   "outputs": [
    {
     "name": "stdout",
     "output_type": "stream",
     "text": [
      "Epoch 1/15\n",
      "\n",
      "----- Generating text after Epoch: 0\n",
      "----- diversity: 0.2\n",
      "----- Generating with seed: \"ama discusses the importance of expandin\"\n",
      "ama discusses the importance of expanding the world tour                                                                                                                            \n",
      "----- diversity: 0.5\n",
      "----- Generating with seed: \"ama discusses the importance of expandin\"\n",
      "ama discusses the importance of expanding a pass and stay                                                        president obama         the                                        \n",
      "----- diversity: 1.0\n",
      "----- Generating with seed: \"ama discusses the importance of expandin\"\n",
      "ama discusses the importance of expanding  so cover   obamamastal you today derroint what sope now sittarity down tosine sought    president obama  ant to turcee    the middle cill\n",
      "----- diversity: 1.2\n",
      "----- Generating with seed: \"ama discusses the importance of expandin\"\n",
      "ama discusses the importance of expanding     vdjozag    ilmasurp       tbarkenteynzviken  and vacelaty  come sooneds on da optest headffrient i     fentynugustrine is in thelareva\n",
      "\n",
      "Epoch 00001: loss improved from inf to 1.33891, saving model to weights.hdf5\n",
      "1937/1937 - 76s - loss: 1.3389 - 76s/epoch - 39ms/step\n",
      "Epoch 2/15\n",
      "\n",
      "----- Not generating text after Epoch: 1\n",
      "\n",
      "Epoch 00002: loss improved from 1.33891 to 1.33305, saving model to weights.hdf5\n",
      "1937/1937 - 59s - loss: 1.3331 - 59s/epoch - 31ms/step\n",
      "Epoch 3/15\n",
      "\n",
      "----- Not generating text after Epoch: 2\n",
      "\n",
      "Epoch 00003: loss improved from 1.33305 to 1.32827, saving model to weights.hdf5\n",
      "1937/1937 - 61s - loss: 1.3283 - 61s/epoch - 31ms/step\n",
      "Epoch 4/15\n",
      "\n",
      "----- Not generating text after Epoch: 3\n",
      "\n",
      "Epoch 00004: loss improved from 1.32827 to 1.32384, saving model to weights.hdf5\n",
      "1937/1937 - 60s - loss: 1.3238 - 60s/epoch - 31ms/step\n",
      "Epoch 5/15\n",
      "\n",
      "----- Not generating text after Epoch: 4\n",
      "\n",
      "Epoch 00005: loss improved from 1.32384 to 1.31957, saving model to weights.hdf5\n",
      "1937/1937 - 59s - loss: 1.3196 - 59s/epoch - 31ms/step\n",
      "Epoch 6/15\n",
      "\n",
      "----- Not generating text after Epoch: 5\n",
      "\n",
      "Epoch 00006: loss improved from 1.31957 to 1.31416, saving model to weights.hdf5\n",
      "1937/1937 - 59s - loss: 1.3142 - 59s/epoch - 30ms/step\n",
      "Epoch 7/15\n",
      "\n",
      "----- Not generating text after Epoch: 6\n",
      "\n",
      "Epoch 00007: loss improved from 1.31416 to 1.31170, saving model to weights.hdf5\n",
      "1937/1937 - 60s - loss: 1.3117 - 60s/epoch - 31ms/step\n",
      "Epoch 8/15\n",
      "\n",
      "----- Not generating text after Epoch: 7\n",
      "\n",
      "Epoch 00008: loss improved from 1.31170 to 1.30952, saving model to weights.hdf5\n",
      "1937/1937 - 60s - loss: 1.3095 - 60s/epoch - 31ms/step\n",
      "Epoch 9/15\n",
      "\n",
      "----- Not generating text after Epoch: 8\n",
      "\n",
      "Epoch 00009: loss improved from 1.30952 to 1.30486, saving model to weights.hdf5\n",
      "1937/1937 - 63s - loss: 1.3049 - 63s/epoch - 32ms/step\n",
      "Epoch 10/15\n",
      "\n",
      "----- Not generating text after Epoch: 9\n",
      "\n",
      "Epoch 00010: loss improved from 1.30486 to 1.30231, saving model to weights.hdf5\n",
      "1937/1937 - 62s - loss: 1.3023 - 62s/epoch - 32ms/step\n",
      "Epoch 11/15\n",
      "\n",
      "----- Not generating text after Epoch: 10\n",
      "\n",
      "Epoch 00011: loss improved from 1.30231 to 1.30168, saving model to weights.hdf5\n",
      "1937/1937 - 63s - loss: 1.3017 - 63s/epoch - 33ms/step\n",
      "Epoch 12/15\n",
      "\n",
      "----- Not generating text after Epoch: 11\n",
      "\n",
      "Epoch 00012: loss improved from 1.30168 to 1.29883, saving model to weights.hdf5\n",
      "1937/1937 - 60s - loss: 1.2988 - 60s/epoch - 31ms/step\n",
      "Epoch 13/15\n",
      "\n",
      "----- Not generating text after Epoch: 12\n",
      "\n",
      "Epoch 00013: loss improved from 1.29883 to 1.29437, saving model to weights.hdf5\n",
      "1937/1937 - 58s - loss: 1.2944 - 58s/epoch - 30ms/step\n",
      "Epoch 14/15\n",
      "\n",
      "----- Not generating text after Epoch: 13\n",
      "\n",
      "Epoch 00014: loss improved from 1.29437 to 1.29396, saving model to weights.hdf5\n",
      "1937/1937 - 65s - loss: 1.2940 - 65s/epoch - 33ms/step\n",
      "Epoch 15/15\n",
      "\n",
      "----- Generating text after Epoch: 14\n",
      "----- diversity: 0.2\n",
      "----- Generating with seed: \"have the security of health coverage   i\"\n",
      "have the security of health coverage   i m so excited about the first time                                                                                                          \n",
      "----- diversity: 0.5\n",
      "----- Generating with seed: \"have the security of health coverage   i\"\n",
      "have the security of health coverage   i we can all the album  working and i m                                                                                                      \n",
      "----- diversity: 1.0\n",
      "----- Generating with seed: \"have the security of health coverage   i\"\n",
      "have the security of health coverage   i ll be hear jobaryun  let s congress read we up   as watch  birthday do let i m so politicals   goachelldnen  missie  i love a ready for the\n",
      "----- diversity: 1.2\n",
      "----- Generating with seed: \"have the security of health coverage   i\"\n",
      "have the security of health coverage   i can blentyoo 1lam   why   interiatiniftnineals meredito like you are ayin like in like  auto backstage the riipficity worken u love stelmin\n",
      "\n",
      "Epoch 00015: loss improved from 1.29396 to 1.29153, saving model to weights.hdf5\n",
      "1937/1937 - 74s - loss: 1.2915 - 74s/epoch - 38ms/step\n"
     ]
    }
   ],
   "source": [
    "# define the checkpoint\n",
    "filepath = \"weights.hdf5\"\n",
    "checkpoint = ModelCheckpoint(filepath, \n",
    "                             monitor='loss', \n",
    "                             verbose=1, \n",
    "                             save_best_only=True, \n",
    "                             mode='min')\n",
    "\n",
    "# fit model using our gpu\n",
    "with tf.device('/gpu:0'):\n",
    "    model.fit(x, y,\n",
    "              batch_size=128,\n",
    "              epochs=15,\n",
    "              verbose=2,\n",
    "              callbacks=[generate_text, checkpoint])"
   ]
  },
  {
   "cell_type": "code",
   "execution_count": 74,
   "id": "81e5df3c",
   "metadata": {},
   "outputs": [
    {
     "name": "stdout",
     "output_type": "stream",
     "text": [
      "(1,)\n",
      "[[1, 2, 3, 4, 5, 6, 7]]\n",
      "WARNING:tensorflow:Model was constructed with shape (None, 40, 37) for input KerasTensor(type_spec=TensorSpec(shape=(None, 40, 37), dtype=tf.float32, name='lstm_1_input'), name='lstm_1_input', description=\"created by layer 'lstm_1_input'\"), but it was called on an input with incompatible shape (None, None).\n"
     ]
    },
    {
     "name": "stderr",
     "output_type": "stream",
     "text": [
      "D:\\Anaconda\\lib\\site-packages\\keras_preprocessing\\text.py:180: UserWarning: The `nb_words` argument in `Tokenizer` has been renamed `num_words`.\n",
      "  warnings.warn('The `nb_words` argument in `Tokenizer` '\n"
     ]
    },
    {
     "ename": "ValueError",
     "evalue": "in user code:\n\n    File \"D:\\Anaconda\\lib\\site-packages\\keras\\engine\\training.py\", line 1621, in predict_function  *\n        return step_function(self, iterator)\n    File \"D:\\Anaconda\\lib\\site-packages\\keras\\engine\\training.py\", line 1611, in step_function  **\n        outputs = model.distribute_strategy.run(run_step, args=(data,))\n    File \"D:\\Anaconda\\lib\\site-packages\\keras\\engine\\training.py\", line 1604, in run_step  **\n        outputs = model.predict_step(data)\n    File \"D:\\Anaconda\\lib\\site-packages\\keras\\engine\\training.py\", line 1572, in predict_step\n        return self(x, training=False)\n    File \"D:\\Anaconda\\lib\\site-packages\\keras\\utils\\traceback_utils.py\", line 67, in error_handler\n        raise e.with_traceback(filtered_tb) from None\n    File \"D:\\Anaconda\\lib\\site-packages\\keras\\engine\\input_spec.py\", line 213, in assert_input_compatibility\n        raise ValueError(f'Input {input_index} of layer \"{layer_name}\" '\n\n    ValueError: Exception encountered when calling layer \"sequential_1\" (type Sequential).\n    \n    Input 0 of layer \"lstm_1\" is incompatible with the layer: expected ndim=3, found ndim=2. Full shape received: (None, None)\n    \n    Call arguments received:\n      • inputs=tf.Tensor(shape=(None, None), dtype=int32)\n      • training=False\n      • mask=None\n",
     "output_type": "error",
     "traceback": [
      "\u001b[1;31m---------------------------------------------------------------------------\u001b[0m",
      "\u001b[1;31mValueError\u001b[0m                                Traceback (most recent call last)",
      "\u001b[1;32m<ipython-input-74-ea57f5076f64>\u001b[0m in \u001b[0;36m<module>\u001b[1;34m\u001b[0m\n\u001b[0;32m     11\u001b[0m \u001b[0mprint\u001b[0m\u001b[1;33m(\u001b[0m\u001b[0mpred\u001b[0m\u001b[1;33m)\u001b[0m\u001b[1;33m\u001b[0m\u001b[1;33m\u001b[0m\u001b[0m\n\u001b[0;32m     12\u001b[0m \u001b[1;33m\u001b[0m\u001b[0m\n\u001b[1;32m---> 13\u001b[1;33m \u001b[0mprediction\u001b[0m \u001b[1;33m=\u001b[0m \u001b[0mmodel\u001b[0m\u001b[1;33m.\u001b[0m\u001b[0mpredict\u001b[0m\u001b[1;33m(\u001b[0m\u001b[0mnp\u001b[0m\u001b[1;33m.\u001b[0m\u001b[0marray\u001b[0m\u001b[1;33m(\u001b[0m\u001b[0mtk\u001b[0m\u001b[1;33m.\u001b[0m\u001b[0mtexts_to_sequences\u001b[0m\u001b[1;33m(\u001b[0m\u001b[0mtext\u001b[0m\u001b[1;33m)\u001b[0m\u001b[1;33m)\u001b[0m\u001b[1;33m)\u001b[0m\u001b[1;33m\u001b[0m\u001b[1;33m\u001b[0m\u001b[0m\n\u001b[0m\u001b[0;32m     14\u001b[0m \u001b[0mprint\u001b[0m\u001b[1;33m(\u001b[0m\u001b[0mprediction\u001b[0m\u001b[1;33m)\u001b[0m\u001b[1;33m\u001b[0m\u001b[1;33m\u001b[0m\u001b[0m\n",
      "\u001b[1;32mD:\\Anaconda\\lib\\site-packages\\keras\\utils\\traceback_utils.py\u001b[0m in \u001b[0;36merror_handler\u001b[1;34m(*args, **kwargs)\u001b[0m\n\u001b[0;32m     65\u001b[0m     \u001b[1;32mexcept\u001b[0m \u001b[0mException\u001b[0m \u001b[1;32mas\u001b[0m \u001b[0me\u001b[0m\u001b[1;33m:\u001b[0m  \u001b[1;31m# pylint: disable=broad-except\u001b[0m\u001b[1;33m\u001b[0m\u001b[1;33m\u001b[0m\u001b[0m\n\u001b[0;32m     66\u001b[0m       \u001b[0mfiltered_tb\u001b[0m \u001b[1;33m=\u001b[0m \u001b[0m_process_traceback_frames\u001b[0m\u001b[1;33m(\u001b[0m\u001b[0me\u001b[0m\u001b[1;33m.\u001b[0m\u001b[0m__traceback__\u001b[0m\u001b[1;33m)\u001b[0m\u001b[1;33m\u001b[0m\u001b[1;33m\u001b[0m\u001b[0m\n\u001b[1;32m---> 67\u001b[1;33m       \u001b[1;32mraise\u001b[0m \u001b[0me\u001b[0m\u001b[1;33m.\u001b[0m\u001b[0mwith_traceback\u001b[0m\u001b[1;33m(\u001b[0m\u001b[0mfiltered_tb\u001b[0m\u001b[1;33m)\u001b[0m \u001b[1;32mfrom\u001b[0m \u001b[1;32mNone\u001b[0m\u001b[1;33m\u001b[0m\u001b[1;33m\u001b[0m\u001b[0m\n\u001b[0m\u001b[0;32m     68\u001b[0m     \u001b[1;32mfinally\u001b[0m\u001b[1;33m:\u001b[0m\u001b[1;33m\u001b[0m\u001b[1;33m\u001b[0m\u001b[0m\n\u001b[0;32m     69\u001b[0m       \u001b[1;32mdel\u001b[0m \u001b[0mfiltered_tb\u001b[0m\u001b[1;33m\u001b[0m\u001b[1;33m\u001b[0m\u001b[0m\n",
      "\u001b[1;32mD:\\Anaconda\\lib\\site-packages\\tensorflow\\python\\framework\\func_graph.py\u001b[0m in \u001b[0;36mautograph_handler\u001b[1;34m(*args, **kwargs)\u001b[0m\n\u001b[0;32m   1127\u001b[0m           \u001b[1;32mexcept\u001b[0m \u001b[0mException\u001b[0m \u001b[1;32mas\u001b[0m \u001b[0me\u001b[0m\u001b[1;33m:\u001b[0m  \u001b[1;31m# pylint:disable=broad-except\u001b[0m\u001b[1;33m\u001b[0m\u001b[1;33m\u001b[0m\u001b[0m\n\u001b[0;32m   1128\u001b[0m             \u001b[1;32mif\u001b[0m \u001b[0mhasattr\u001b[0m\u001b[1;33m(\u001b[0m\u001b[0me\u001b[0m\u001b[1;33m,\u001b[0m \u001b[1;34m\"ag_error_metadata\"\u001b[0m\u001b[1;33m)\u001b[0m\u001b[1;33m:\u001b[0m\u001b[1;33m\u001b[0m\u001b[1;33m\u001b[0m\u001b[0m\n\u001b[1;32m-> 1129\u001b[1;33m               \u001b[1;32mraise\u001b[0m \u001b[0me\u001b[0m\u001b[1;33m.\u001b[0m\u001b[0mag_error_metadata\u001b[0m\u001b[1;33m.\u001b[0m\u001b[0mto_exception\u001b[0m\u001b[1;33m(\u001b[0m\u001b[0me\u001b[0m\u001b[1;33m)\u001b[0m\u001b[1;33m\u001b[0m\u001b[1;33m\u001b[0m\u001b[0m\n\u001b[0m\u001b[0;32m   1130\u001b[0m             \u001b[1;32melse\u001b[0m\u001b[1;33m:\u001b[0m\u001b[1;33m\u001b[0m\u001b[1;33m\u001b[0m\u001b[0m\n\u001b[0;32m   1131\u001b[0m               \u001b[1;32mraise\u001b[0m\u001b[1;33m\u001b[0m\u001b[1;33m\u001b[0m\u001b[0m\n",
      "\u001b[1;31mValueError\u001b[0m: in user code:\n\n    File \"D:\\Anaconda\\lib\\site-packages\\keras\\engine\\training.py\", line 1621, in predict_function  *\n        return step_function(self, iterator)\n    File \"D:\\Anaconda\\lib\\site-packages\\keras\\engine\\training.py\", line 1611, in step_function  **\n        outputs = model.distribute_strategy.run(run_step, args=(data,))\n    File \"D:\\Anaconda\\lib\\site-packages\\keras\\engine\\training.py\", line 1604, in run_step  **\n        outputs = model.predict_step(data)\n    File \"D:\\Anaconda\\lib\\site-packages\\keras\\engine\\training.py\", line 1572, in predict_step\n        return self(x, training=False)\n    File \"D:\\Anaconda\\lib\\site-packages\\keras\\utils\\traceback_utils.py\", line 67, in error_handler\n        raise e.with_traceback(filtered_tb) from None\n    File \"D:\\Anaconda\\lib\\site-packages\\keras\\engine\\input_spec.py\", line 213, in assert_input_compatibility\n        raise ValueError(f'Input {input_index} of layer \"{layer_name}\" '\n\n    ValueError: Exception encountered when calling layer \"sequential_1\" (type Sequential).\n    \n    Input 0 of layer \"lstm_1\" is incompatible with the layer: expected ndim=3, found ndim=2. Full shape received: (None, None)\n    \n    Call arguments received:\n      • inputs=tf.Tensor(shape=(None, None), dtype=int32)\n      • training=False\n      • mask=None\n"
     ]
    }
   ],
   "source": [
    "text = np.array(['this is just some random, stupid text'])\n",
    "print(text.shape)\n",
    "\n",
    "tk = keras.preprocessing.text.Tokenizer(\n",
    "        nb_words=2000,\n",
    "        lower=True,\n",
    "        split=\" \")\n",
    "\n",
    "tk.fit_on_texts(text)\n",
    "pred = tk.texts_to_sequences(text)\n",
    "print(pred)\n",
    "\n",
    "prediction = model.predict(np.array(tk.texts_to_sequences(text)))\n",
    "print(prediction)"
   ]
  },
  {
   "cell_type": "code",
   "execution_count": null,
   "id": "0849d82b",
   "metadata": {},
   "outputs": [],
   "source": []
  },
  {
   "cell_type": "code",
   "execution_count": null,
   "id": "9d4f326e",
   "metadata": {},
   "outputs": [],
   "source": []
  },
  {
   "cell_type": "code",
   "execution_count": null,
   "id": "20f1daae",
   "metadata": {},
   "outputs": [],
   "source": []
  },
  {
   "cell_type": "code",
   "execution_count": null,
   "id": "ff8fd396",
   "metadata": {},
   "outputs": [],
   "source": []
  },
  {
   "cell_type": "code",
   "execution_count": null,
   "id": "0f75419c",
   "metadata": {},
   "outputs": [],
   "source": []
  },
  {
   "cell_type": "code",
   "execution_count": null,
   "id": "af9788e7",
   "metadata": {},
   "outputs": [],
   "source": []
  },
  {
   "cell_type": "code",
   "execution_count": null,
   "id": "e7134a21",
   "metadata": {},
   "outputs": [],
   "source": []
  },
  {
   "cell_type": "code",
   "execution_count": null,
   "id": "a2b654b5",
   "metadata": {},
   "outputs": [],
   "source": []
  },
  {
   "cell_type": "code",
   "execution_count": null,
   "id": "cc170ab7",
   "metadata": {},
   "outputs": [],
   "source": []
  },
  {
   "cell_type": "code",
   "execution_count": null,
   "id": "09e11d19",
   "metadata": {},
   "outputs": [],
   "source": []
  },
  {
   "cell_type": "code",
   "execution_count": null,
   "id": "98a8722a",
   "metadata": {},
   "outputs": [],
   "source": []
  },
  {
   "cell_type": "code",
   "execution_count": null,
   "id": "6d2110d9",
   "metadata": {},
   "outputs": [],
   "source": []
  },
  {
   "cell_type": "code",
   "execution_count": null,
   "id": "8ddaf33e",
   "metadata": {},
   "outputs": [],
   "source": []
  },
  {
   "cell_type": "code",
   "execution_count": null,
   "id": "0815a5a8",
   "metadata": {},
   "outputs": [],
   "source": []
  },
  {
   "cell_type": "code",
   "execution_count": null,
   "id": "88afbb40",
   "metadata": {},
   "outputs": [],
   "source": []
  },
  {
   "cell_type": "code",
   "execution_count": null,
   "id": "be59f0ef",
   "metadata": {},
   "outputs": [],
   "source": []
  },
  {
   "cell_type": "code",
   "execution_count": null,
   "id": "5da2577f",
   "metadata": {},
   "outputs": [],
   "source": []
  },
  {
   "cell_type": "code",
   "execution_count": null,
   "id": "07b34d6b",
   "metadata": {},
   "outputs": [],
   "source": []
  }
 ],
 "metadata": {
  "kernelspec": {
   "display_name": "Python 3",
   "language": "python",
   "name": "python3"
  },
  "language_info": {
   "codemirror_mode": {
    "name": "ipython",
    "version": 3
   },
   "file_extension": ".py",
   "mimetype": "text/x-python",
   "name": "python",
   "nbconvert_exporter": "python",
   "pygments_lexer": "ipython3",
   "version": "3.8.8"
  }
 },
 "nbformat": 4,
 "nbformat_minor": 5
}
